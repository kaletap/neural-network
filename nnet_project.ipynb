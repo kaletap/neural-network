{
 "cells": [
  {
   "cell_type": "markdown",
   "metadata": {},
   "source": [
    "# Deep learning - project 1\n",
    "## Creating and training neural network from scratch"
   ]
  },
  {
   "cell_type": "code",
   "execution_count": 17,
   "metadata": {},
   "outputs": [],
   "source": [
    "import numpy as np\n",
    "from typing import List, Callable\n",
    "from abc import ABC, abstractmethod "
   ]
  },
  {
   "cell_type": "code",
   "execution_count": 33,
   "metadata": {},
   "outputs": [],
   "source": [
    "class Layer:\n",
    "    \"\"\"\n",
    "    One layer of a neural network\n",
    "    # attributes: number of neurons\n",
    "    # implements: operator() which depends on activation function, derivative()\n",
    "    \"\"\"\n",
    "    def __init__(self, n_neurons: int, activation: Callable[[np.array], np.array]):\n",
    "        pass\n",
    "\n",
    "class Loss(ABC):\n",
    "    \"\"\"\n",
    "    Base class for a loss function of a network\n",
    "    # implements: operator(), derivative()\n",
    "    \"\"\"\n",
    "    @abstractmethod\n",
    "    def __call__(self, y_predicted: np.array, y_true: np.array):\n",
    "        pass"
   ]
  },
  {
   "cell_type": "code",
   "execution_count": 62,
   "metadata": {},
   "outputs": [],
   "source": [
    "class QuadraticLoss(Loss):\n",
    "    \"\"\"Loss for simple regression: mean squared error.\"\"\"\n",
    "    def __call__(self, y_predicted: np.array, y_true: np.array):\n",
    "        if len(y_predicted) != len(y_true):\n",
    "            raise IndexError(\"length of y_predicted ({}) has to be the same as lenght of y_true ({})\".format(len(y_predicted), len(y_true)))\n",
    "        return np.linalg.norm(y_predicted - y_true) / len(y_true)\n",
    "    \n",
    "class BernLoss(Loss):\n",
    "    \"\"\"\n",
    "    Loss for binary classification (negative binomial likelihood),\n",
    "    also known as cross-entropy between the between empirical and model distribution (binomial).\n",
    "    \"\"\"\n",
    "    def __call__(self, y_predicted: np.array, y_true: np.array):\n",
    "        return -np.mean(\n",
    "            np.array(\n",
    "                [np.log(p) if y == 1 else np.log(1-p) \n",
    "                 for p, y in zip(y_predicted, y_true)]\n",
    "            )\n",
    "        )"
   ]
  },
  {
   "cell_type": "code",
   "execution_count": 63,
   "metadata": {},
   "outputs": [],
   "source": [
    "dupa = BernLoss()"
   ]
  },
  {
   "cell_type": "code",
   "execution_count": 66,
   "metadata": {},
   "outputs": [
    {
     "data": {
      "text/plain": [
       "0.1698386837850806"
      ]
     },
     "execution_count": 66,
     "metadata": {},
     "output_type": "execute_result"
    }
   ],
   "source": [
    "dupa(np.array([0.89, 0.2]), np.array([1, 0]))"
   ]
  },
  {
   "cell_type": "code",
   "execution_count": null,
   "metadata": {},
   "outputs": [],
   "source": []
  },
  {
   "cell_type": "code",
   "execution_count": null,
   "metadata": {},
   "outputs": [],
   "source": [
    "class NNet:\n",
    "    \"\"\"Feedforwad (classical) neural network\"\"\"\n",
    "    def __init__(self, layers: List[Layer], loss: Loss):\n",
    "        self.layers = layers\n",
    "        self.loss = loss"
   ]
  },
  {
   "cell_type": "code",
   "execution_count": 24,
   "metadata": {},
   "outputs": [
    {
     "data": {
      "text/plain": [
       "0.3364722366212129"
      ]
     },
     "execution_count": 24,
     "metadata": {},
     "output_type": "execute_result"
    }
   ],
   "source": [
    "np.log(1.4)"
   ]
  },
  {
   "cell_type": "code",
   "execution_count": null,
   "metadata": {},
   "outputs": [],
   "source": []
  }
 ],
 "metadata": {
  "kernelspec": {
   "display_name": "Python 3",
   "language": "python",
   "name": "python3"
  },
  "language_info": {
   "codemirror_mode": {
    "name": "ipython",
    "version": 3
   },
   "file_extension": ".py",
   "mimetype": "text/x-python",
   "name": "python",
   "nbconvert_exporter": "python",
   "pygments_lexer": "ipython3",
   "version": "3.6.9"
  }
 },
 "nbformat": 4,
 "nbformat_minor": 4
}
