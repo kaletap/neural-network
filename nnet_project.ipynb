{
 "cells": [
  {
   "cell_type": "markdown",
   "metadata": {},
   "source": [
    "# Deep learning - project 1\n",
    "## Creating and training neural network from scratch"
   ]
  },
  {
   "cell_type": "code",
   "execution_count": 85,
   "metadata": {},
   "outputs": [],
   "source": [
    "import numpy as np\n",
    "from typing import List, Callable\n",
    "from abc import ABC, abstractmethod "
   ]
  },
  {
   "cell_type": "code",
   "execution_count": 87,
   "metadata": {},
   "outputs": [],
   "source": [
    "class Layer:\n",
    "    \"\"\"\n",
    "    One layer of a neural network\n",
    "    # attributes: number of neurons\n",
    "    # implements: operator() which depends on activation function, derivative()\n",
    "    \"\"\"\n",
    "    def __init__(self, input_size: int, output_size: int, activation: Callable[[np.array], np.array], *, sd):\n",
    "        self.W = np.random.normal(0, sd, size=[input_size, output_size])  # weights\n",
    "        self.b = np.random.normal(0, sd, size=[1, output_size])  # biases\n",
    "    \n",
    "    def __call__(self, input_vector: np.array):\n",
    "        return activation(input_vector.dot(self.W) + self.b)\n",
    "\n",
    "class Loss(ABC):\n",
    "    \"\"\"\n",
    "    Base class for a loss function of a network\n",
    "    # implements: operator(), derivative()\n",
    "    \"\"\"\n",
    "    @abstractmethod\n",
    "    def __call__(self, y_predicted: np.array, y_true: np.array):\n",
    "        pass"
   ]
  },
  {
   "cell_type": "code",
   "execution_count": 91,
   "metadata": {},
   "outputs": [],
   "source": [
    "class QuadraticLoss(Loss):\n",
    "    \"\"\"Loss for simple regression: mean squared error.\"\"\"\n",
    "    def __call__(self, y_predicted: np.array, y_true: np.array):\n",
    "        if len(y_predicted) != len(y_true):\n",
    "            raise IndexError(\"length of y_predicted ({}) has to be the same as lenght of y_true ({})\".format(len(y_predicted), len(y_true)))\n",
    "        return np.linalg.norm(y_predicted - y_true) / len(y_true)\n",
    "    \n",
    "class BernLoss(Loss):\n",
    "    \"\"\"\n",
    "    Loss for binary classification (negative binomial likelihood),\n",
    "    also known as cross-entropy between the between empirical and model distribution (binomial).\n",
    "    \"\"\"\n",
    "    def __call__(self, y_predicted: np.array, y_true: np.array):\n",
    "        return -np.mean(\n",
    "            np.array(\n",
    "                [np.log(p) if y == 1 else np.log(1-p) \n",
    "                 for p, y in zip(y_predicted, y_true)]\n",
    "            )\n",
    "        )\n",
    "    \n",
    "def sigmoid(x: np.array) -> np.array:\n",
    "    return 1 / (1 +  np.exp(-x))\n"
   ]
  },
  {
   "cell_type": "code",
   "execution_count": null,
   "metadata": {},
   "outputs": [],
   "source": [
    "class NNet:\n",
    "    \"\"\"Feedforwad (classical) neural network\"\"\"\n",
    "    def __init__(self, layers: List[Layer], loss: Loss):\n",
    "        self.layers = layers\n",
    "        self.loss = loss\n",
    "        \n",
    "    def forward(x: np.array):\n",
    "        y = x\n",
    "        for layer in layers:\n",
    "            y = layer(y)\n",
    "        "
   ]
  },
  {
   "cell_type": "code",
   "execution_count": 24,
   "metadata": {},
   "outputs": [
    {
     "data": {
      "text/plain": [
       "0.3364722366212129"
      ]
     },
     "execution_count": 24,
     "metadata": {},
     "output_type": "execute_result"
    }
   ],
   "source": [
    "np.log(1.4)"
   ]
  },
  {
   "cell_type": "code",
   "execution_count": 70,
   "metadata": {},
   "outputs": [],
   "source": [
    "class Temp:\n",
    "    def foo(self, a, b, *, c):\n",
    "        return a + b - c"
   ]
  },
  {
   "cell_type": "code",
   "execution_count": 71,
   "metadata": {},
   "outputs": [],
   "source": [
    "t = Temp()"
   ]
  },
  {
   "cell_type": "code",
   "execution_count": 73,
   "metadata": {},
   "outputs": [
    {
     "data": {
      "text/plain": [
       "0"
      ]
     },
     "execution_count": 73,
     "metadata": {},
     "output_type": "execute_result"
    }
   ],
   "source": [
    "t.foo(1, 2, c=3)"
   ]
  },
  {
   "cell_type": "code",
   "execution_count": 80,
   "metadata": {},
   "outputs": [],
   "source": [
    "k = 4\n",
    "d = 7\n",
    "x = np.ones([1, k])\n",
    "W = np.ones([k, d])"
   ]
  },
  {
   "cell_type": "code",
   "execution_count": 81,
   "metadata": {},
   "outputs": [
    {
     "data": {
      "text/plain": [
       "array([[1., 1., 1., 1., 1., 1., 1.],\n",
       "       [1., 1., 1., 1., 1., 1., 1.],\n",
       "       [1., 1., 1., 1., 1., 1., 1.],\n",
       "       [1., 1., 1., 1., 1., 1., 1.]])"
      ]
     },
     "execution_count": 81,
     "metadata": {},
     "output_type": "execute_result"
    }
   ],
   "source": [
    "x\n",
    "W"
   ]
  },
  {
   "cell_type": "code",
   "execution_count": 82,
   "metadata": {},
   "outputs": [
    {
     "data": {
      "text/plain": [
       "array([[4., 4., 4., 4., 4., 4., 4.]])"
      ]
     },
     "execution_count": 82,
     "metadata": {},
     "output_type": "execute_result"
    }
   ],
   "source": [
    "x.dot(W)"
   ]
  },
  {
   "cell_type": "code",
   "execution_count": 97,
   "metadata": {},
   "outputs": [],
   "source": [
    "x = np.ones([2, 3])"
   ]
  },
  {
   "cell_type": "code",
   "execution_count": 98,
   "metadata": {},
   "outputs": [
    {
     "data": {
      "text/plain": [
       "array([[1., 1., 1.],\n",
       "       [1., 1., 1.]])"
      ]
     },
     "execution_count": 98,
     "metadata": {},
     "output_type": "execute_result"
    }
   ],
   "source": [
    "x"
   ]
  },
  {
   "cell_type": "code",
   "execution_count": 99,
   "metadata": {},
   "outputs": [],
   "source": [
    "b = np.ones([1, 3])"
   ]
  },
  {
   "cell_type": "code",
   "execution_count": 100,
   "metadata": {},
   "outputs": [
    {
     "data": {
      "text/plain": [
       "array([[2., 2., 2.],\n",
       "       [2., 2., 2.]])"
      ]
     },
     "execution_count": 100,
     "metadata": {},
     "output_type": "execute_result"
    }
   ],
   "source": [
    "x + b"
   ]
  },
  {
   "cell_type": "code",
   "execution_count": null,
   "metadata": {},
   "outputs": [],
   "source": []
  }
 ],
 "metadata": {
  "kernelspec": {
   "display_name": "Python 3",
   "language": "python",
   "name": "python3"
  },
  "language_info": {
   "codemirror_mode": {
    "name": "ipython",
    "version": 3
   },
   "file_extension": ".py",
   "mimetype": "text/x-python",
   "name": "python",
   "nbconvert_exporter": "python",
   "pygments_lexer": "ipython3",
   "version": "3.6.9"
  }
 },
 "nbformat": 4,
 "nbformat_minor": 4
}
