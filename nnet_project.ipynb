{
 "cells": [
  {
   "cell_type": "markdown",
   "metadata": {},
   "source": [
    "# Deep learning - project 1\n",
    "## Creating and training neural network from scratch"
   ]
  },
  {
   "cell_type": "code",
   "execution_count": 3,
   "metadata": {},
   "outputs": [],
   "source": [
    "import numpy as np\n",
    "from typing import List, Callable, Iterable\n",
    "from abc import ABC, abstractmethod "
   ]
  },
  {
   "cell_type": "code",
   "execution_count": 25,
   "metadata": {},
   "outputs": [],
   "source": [
    "\"\"\"\n",
    "Abstract classes for loss function and activation function.\n",
    "\"\"\"\n",
    "\n",
    "class Loss(ABC):\n",
    "    \"\"\"\n",
    "    Base class for a loss function of a network\n",
    "    # implements: operator(), derivative()\n",
    "    \"\"\"\n",
    "    @abstractmethod\n",
    "    def __call__(self, y_predicted: np.array, y_true: np.array):\n",
    "        pass\n",
    "    \n",
    "    @abstractmethod\n",
    "    def derivative(self, y_predicted: np.array, y_true: np.array):\n",
    "        pass\n",
    "\n",
    "class Activation(ABC):\n",
    "    \"\"\"Base class for an activation function\"\"\"\n",
    "    @abstractmethod\n",
    "    def __call__(self, x: np.array) -> np.array:\n",
    "        \"\"\"Activation (pointwise) function\"\"\"\n",
    "        pass\n",
    "    \n",
    "    @abstractmethod\n",
    "    def derivative(self, x: np.array) -> np.array:\n",
    "        \"\"\"\n",
    "        Derivative method of the activation function.\n",
    "        \"\"\"\n",
    "        pass\n",
    "\n",
    "class Layer:\n",
    "    \"\"\"\n",
    "    One layer of a neural network. Used only when creating neural networks.\n",
    "    # attributes: number of neurons\n",
    "    # implements: operator() which depends on activation function, derivative()\n",
    "    \"\"\"\n",
    "    def __init__(self, n_neurons: int, activation: Activation, *, verbose=False):\n",
    "        self.n_neurons = n_neurons\n",
    "        self.output_size = n_neurons\n",
    "        self.activation = activation\n",
    "        self.verbose = verbose\n",
    "    \n",
    "    def initalize(self, input_size, *, sd=0.1):\n",
    "        self.input_size = input_size\n",
    "        self.W = np.random.normal(0, sd, size=[input_size, self.output_size])  # weights\n",
    "        self.b = np.random.normal(0, sd, size=[1, self.output_size])  # biases\n",
    "        \n",
    "    def verbose_print(self, s: str):\n",
    "        if self.verbose:\n",
    "            print(s)\n",
    "    \n",
    "    def __call__(self, input_vector: np.array):\n",
    "        self.verbose_print(\"calculating next vector from sizes {}x{} with matrix {}x{}\".format(*input_vector.shape, self.input_size, self.output_size))\n",
    "        return self.activation(input_vector.dot(self.W) + self.b)\n",
    "    \n",
    "    def __str__(self):\n",
    "        return \"Layer(input_size={}, output_size={})\".format(self.input_size, self.output_size)\n",
    "    \n",
    "    def __repr__(self):\n",
    "        return str(self)\n",
    "    \n",
    "    def derivative_weights(self, state: np.array):\n",
    "        # Let H be the dimansionality of the input state, W be H x K matrix, n number of samples\n",
    "        n = state.shape[0]\n",
    "        next_state = state.dot(self.W) # n x K\n",
    "        outer_der = self.activation.derivative(next_state) # n x K x K\n",
    "        inner_der = np.zeros([n, self.output_size, self.input_size, self.output_size])  # n x K x (H x K)\n",
    "        for i, row, tensor in enumerate(zip(state, inner_der)):  # tensor: K x H x K\n",
    "            for j, matrix in enumerate(tensor):  # matrix: H x K\n",
    "                matrix[:, j] = row.flatten()  # flatten because row is a 1 x H array\n",
    "        return inner_der @ outer_der \n",
    "        \n",
    "    \n",
    "    def derivative_state(self, state: np.array):\n",
    "        next_state = state.dot(self.W)  # TODO: optimize: no need to caluclate it in backward pass\n",
    "        return self.W.dot(self.activation.derivative(next_state))"
   ]
  },
  {
   "cell_type": "code",
   "execution_count": 42,
   "metadata": {},
   "outputs": [],
   "source": [
    "\"\"\"\n",
    "Actual implementation of specific loss functions and activation functions.\n",
    "\"\"\"\n",
    "\n",
    "class QuadraticLoss(Loss):\n",
    "    \"\"\"Loss for simple regression: mean squared error.\"\"\"\n",
    "    def __call__(self, y_predicted: np.array, y_true: np.array):\n",
    "        if len(y_predicted) != len(y_true):\n",
    "            raise IndexError(\"length of y_predicted ({}) has to be the same as lenght of y_true ({})\".format(len(y_predicted), len(y_true)))\n",
    "        return np.linalg.norm(y_predicted - y_true) / len(y_true)\n",
    "    \n",
    "    def derivative(self, y_predicted: np.array, y_true: np.array):\n",
    "        n = len(y_predicted)\n",
    "        assert len(y_true) == n\n",
    "        return 2 / n * (y_predicted - y_true)\n",
    "        \n",
    "    \n",
    "class BernLoss(Loss):\n",
    "    \"\"\"\n",
    "    Loss for binary classification (negative binomial likelihood),\n",
    "    also known as cross-entropy between the empirical and model distribution (binomial).\n",
    "    \"\"\"\n",
    "    def __call__(self, y_predicted: np.array, y_true: np.array):\n",
    "        return -np.mean(\n",
    "            np.array(\n",
    "                [np.log(p) if y == 1 else np.log(1-p) \n",
    "                 for p, y in zip(y_predicted, y_true)]\n",
    "            )\n",
    "        )\n",
    "\n",
    "# TODO: should this be a class? There is no state in it\n",
    "class Sigmoid(Activation):\n",
    "    def __call__(self, x: np.array) -> np.array:\n",
    "        return 1 / (1 +  np.exp(-x))\n",
    "    \n",
    "    def derivative(self, x: np.array):\n",
    "        der = self(x) * (1 - self(x))\n",
    "        return np.array([np.diag(row) for row in der])  # TODO: this is sparse matrix: possible memory and time optimization\n",
    "    \n",
    "class Identity(Activation):\n",
    "    def __call__(self, x: np.array) -> np.array:\n",
    "        return x\n",
    "    \n",
    "    def derivative(self, x: np.array):  # x is n x D\n",
    "        dim = x.shape[1]\n",
    "        return np.array([np.identity(row) for row in x])\n"
   ]
  },
  {
   "cell_type": "code",
   "execution_count": 43,
   "metadata": {},
   "outputs": [],
   "source": [
    "class NNet:\n",
    "    \"\"\"Feedforwad (classical) neural network\"\"\"\n",
    "    def __init__(self, input_size: int, layers: List[Layer], loss: Loss):\n",
    "        layers[0].initalize(input_size)\n",
    "        for i, layer in enumerate(layers):\n",
    "            if i == 0:\n",
    "                continue\n",
    "            layer.initalize(input_size=layers[i-1].output_size)\n",
    "        self.layers = layers\n",
    "        self.loss = loss\n",
    "        \n",
    "    def __call__(self, x: np.array):\n",
    "        \"\"\"Forwad pass\"\"\"\n",
    "        y = x\n",
    "        for layer in self.layers:\n",
    "            y = layer(y)\n",
    "        return y\n",
    "        "
   ]
  },
  {
   "cell_type": "code",
   "execution_count": 44,
   "metadata": {},
   "outputs": [],
   "source": [
    "nnet = NNet(\n",
    "    10,\n",
    "    [Layer(1, Identity())],\n",
    "    QuadraticLoss()\n",
    ")"
   ]
  },
  {
   "cell_type": "code",
   "execution_count": 45,
   "metadata": {},
   "outputs": [],
   "source": [
    "x = np.random.normal(0, 100, [100, 10])"
   ]
  },
  {
   "cell_type": "code",
   "execution_count": 46,
   "metadata": {},
   "outputs": [
    {
     "data": {
      "text/plain": [
       "array([[ 56.22139407],\n",
       "       [  5.0670563 ],\n",
       "       [ 38.64728734],\n",
       "       [-36.19524707],\n",
       "       [-15.67747743]])"
      ]
     },
     "execution_count": 46,
     "metadata": {},
     "output_type": "execute_result"
    }
   ],
   "source": [
    "nnet(x)[:5]"
   ]
  }
 ],
 "metadata": {
  "kernelspec": {
   "display_name": "Python 3",
   "language": "python",
   "name": "python3"
  },
  "language_info": {
   "codemirror_mode": {
    "name": "ipython",
    "version": 3
   },
   "file_extension": ".py",
   "mimetype": "text/x-python",
   "name": "python",
   "nbconvert_exporter": "python",
   "pygments_lexer": "ipython3",
   "version": "3.6.9"
  }
 },
 "nbformat": 4,
 "nbformat_minor": 4
}
