{
 "cells": [
  {
   "cell_type": "markdown",
   "metadata": {},
   "source": [
    "# Deep learning - project 1\n",
    "## Creating and training neural network from scratch"
   ]
  },
  {
   "cell_type": "code",
   "execution_count": 10,
   "metadata": {},
   "outputs": [],
   "source": [
    "import numpy as np\n",
    "from typing import List, Callable, Iterable\n",
    "from abc import ABC, abstractmethod \n",
    "from IPython.core.debugger import set_trace"
   ]
  },
  {
   "cell_type": "code",
   "execution_count": 11,
   "metadata": {},
   "outputs": [],
   "source": [
    "\"\"\"\n",
    "Abstract classes for loss function and activation function.\n",
    "\"\"\"\n",
    "\n",
    "class Loss(ABC):\n",
    "    \"\"\"\n",
    "    Base class for a loss function of a network\n",
    "    # implements: operator(), derivative()\n",
    "    \"\"\"\n",
    "    @abstractmethod\n",
    "    def __call__(self, y_predicted: np.ndarray, y_true: np.ndarray):\n",
    "        pass\n",
    "    \n",
    "    @abstractmethod\n",
    "    def derivative(self, y_predicted: np.ndarray, y_true: np.ndarray):\n",
    "        pass\n",
    "\n",
    "class Activation(ABC):\n",
    "    \"\"\"Base class for an activation function\"\"\"\n",
    "    @abstractmethod\n",
    "    def __call__(self, x: np.ndarray) -> np.ndarray:\n",
    "        \"\"\"Activation (pointwise) function\"\"\"\n",
    "        pass\n",
    "    \n",
    "    @abstractmethod\n",
    "    def derivative(self, x: np.ndarray) -> np.ndarray:\n",
    "        \"\"\"\n",
    "        Derivative method of the activation function.\n",
    "        \"\"\"\n",
    "        pass\n",
    "\n",
    "class Layer:\n",
    "    \"\"\"\n",
    "    One layer of a neural network. Used only when creating neural networks.\n",
    "    # attributes: number of neurons\n",
    "    # implements: operator() which depends on activation function, derivative()\n",
    "    \"\"\"\n",
    "    def __init__(self, n_neurons: int, activation: Activation, *, verbose=False):\n",
    "        self.n_neurons = n_neurons\n",
    "        self.output_size = n_neurons\n",
    "        self.activation = activation\n",
    "        self.verbose = verbose\n",
    "        self.state = None\n",
    "        self.input_state = None\n",
    "    \n",
    "    def initalize(self, input_size, *, sd=0.1):\n",
    "        self.input_size = input_size\n",
    "        self.W = np.random.normal(0, sd, size=[input_size, self.output_size])  # weights\n",
    "        self.b = np.random.normal(0, sd, size=[1, self.output_size])  # biases\n",
    "        self.derivative = np.zeros([self.input_size, self.output_size])\n",
    "        \n",
    "    def verbose_print(self, s: str):\n",
    "        if self.verbose:\n",
    "            print(s)\n",
    "    \n",
    "    def __call__(self, input_vector: np.array):\n",
    "        self.verbose_print(\"calculating next vector from sizes {}x{} with matrix {}x{}\".format(*input_vector.shape, self.input_size, self.output_size))\n",
    "        # Remembering previous and current state\n",
    "        self.input_state = input_vector.copy()\n",
    "        self.state = self.activation(input_vector.dot(self.W) + self.b)\n",
    "        # each pass through a layer changes the value of self.input_state and self.state\n",
    "        return self.state\n",
    "    \n",
    "    def __str__(self):\n",
    "        return \"Layer(input_size={}, output_size={})\".format(self.input_size, self.output_size)\n",
    "    \n",
    "    def __repr__(self):\n",
    "        return str(self)\n",
    "    \n",
    "    def _set_derivative_weights(self, state: np.ndarray, cumulated_jacobian: np.ndarray):\n",
    "        # Let H be the dimansionality of the input state, W be H x K matrix, n number of samples\n",
    "        n = state.shape[0]\n",
    "        next_state = state.dot(self.W) # n x K\n",
    "        outer_der = self.activation.derivative(next_state) # n x K x K\n",
    "        inner_der = np.zeros([n, self.output_size, self.input_size, self.output_size])  # n x K x (H x K)\n",
    "        for i, (row, tensor) in enumerate(zip(state, inner_der)):  # tensor: K x H x K\n",
    "            for j, matrix in enumerate(tensor):  # matrix: H x K\n",
    "                matrix[:, j] = row.flatten()  # flatten because row is a 1 x H array\n",
    "        derivative = (inner_der.reshape([n, self.output_size, -1]) @ outer_der).reshape([n, self.output_size, self.input_size, self.output_size]) # TODO: ??\n",
    "        set_trace()\n",
    "        self.derivative = cumulated_jacobian @ derivative \n",
    "        \n",
    "        \n",
    "    def set_derivative_weights(self, state: np.ndarray, cumulated_jacobian: np.ndarray):\n",
    "        n = state.shape[0]\n",
    "        \n",
    "    \n",
    "    def derivative_state(self):\n",
    "        \"\"\"Partial derivative of a layer with respect to prevoius hidden state. Needed for calculating cumulative jacobian.\"\"\"\n",
    "        state = self.input_state\n",
    "        next_state = state.dot(self.W)  # TODO: optimize: no need to caluclate it in backward pass\n",
    "        return self.W @ self.activation.derivative(next_state)"
   ]
  },
  {
   "cell_type": "code",
   "execution_count": 34,
   "metadata": {},
   "outputs": [],
   "source": [
    "\"\"\"\n",
    "Actual implementation of specific loss functions and activation functions.\n",
    "\"\"\"\n",
    "\n",
    "class QuadraticLoss(Loss):\n",
    "    \"\"\"Loss for simple regression: mean squared error.\"\"\"\n",
    "    def __call__(self, y_predicted: np.ndarray, y_true: np.ndarray):\n",
    "        if len(y_predicted) != len(y_true):\n",
    "            raise IndexError(\"length of y_predicted ({}) has to be the same as lenght of y_true ({})\".format(len(y_predicted), len(y_true)))\n",
    "        return np.linalg.norm(y_predicted - y_true) / len(y_true)\n",
    "    \n",
    "    def derivative(self, y_predicted: np.ndarray, y_true: np.ndarray):\n",
    "        n = len(y_predicted)\n",
    "        assert len(y_true) == n\n",
    "        return (2 / n * (y_predicted - y_true)).reshape([-1, 1, 1])  # be careful with this reshaping\n",
    "        \n",
    "    \n",
    "class BernLoss(Loss):\n",
    "    \"\"\"\n",
    "    Loss for binary classification (negative binomial likelihood),\n",
    "    also known as cross-entropy between the empirical and model distribution (binomial).\n",
    "    \"\"\"\n",
    "    def __call__(self, y_predicted: np.ndarray, y_true: np.ndarray):\n",
    "        return -np.mean(\n",
    "            np.array(\n",
    "                [np.log(p) if y == 1 else np.log(1-p) \n",
    "                 for p, y in zip(y_predicted, y_true)]\n",
    "            )\n",
    "        )\n",
    "\n",
    "# TODO: should this be a class? There is no state in it\n",
    "class Sigmoid(Activation):\n",
    "    def __call__(self, x: np.array) -> np.ndarray:\n",
    "        return 1 / (1 +  np.exp(-x))\n",
    "    \n",
    "    def derivative(self, x: np.array):\n",
    "        der = self(x) * (1 - self(x))\n",
    "        return np.array([np.diag(row) for row in der])  # TODO: this is sparse matrix: possible memory and time optimization\n",
    "    \n",
    "class Identity(Activation):\n",
    "    def __call__(self, x: np.array) -> np.ndarray:\n",
    "        return x\n",
    "    \n",
    "    def derivative(self, x: np.array):  # x is n x D\n",
    "        dim = x.shape[1]\n",
    "        print(np.array([np.identity(dim) for row in x]).shape)\n",
    "        return np.array([np.identity(dim) for row in x])\n"
   ]
  },
  {
   "cell_type": "code",
   "execution_count": 35,
   "metadata": {},
   "outputs": [],
   "source": [
    "class NNet:\n",
    "    \"\"\"Feedforwad (classical) neural network\"\"\"\n",
    "    def __init__(self, input_size: int, layers: List[Layer], loss: Loss):\n",
    "        layers[0].initalize(input_size)\n",
    "        for i, layer in enumerate(layers):\n",
    "            if i == 0:\n",
    "                continue\n",
    "            layer.initalize(input_size=layers[i-1].output_size)\n",
    "        self.layers = layers\n",
    "        self.n_layers = len(self.layers)\n",
    "        self.loss = loss\n",
    "        \n",
    "    def __call__(self, x: np.ndarray):\n",
    "        \"\"\"Forwad pass\"\"\"\n",
    "        y = x\n",
    "        for layer in self.layers:\n",
    "            y = layer(y)\n",
    "        self.output = y.copy()\n",
    "        return y\n",
    "    \n",
    "    def all_layers_passed(self):\n",
    "        return all([layer.state is not None for layer in self.layers])\n",
    "    \n",
    "    def backward(self, y_true: np.ndarray):\n",
    "        \"\"\"One centralized function responsible to computing derivatives of a whole network.\"\"\"\n",
    "        jacobian = self.loss.derivative(self.output, y_true)\n",
    "        print(jacobian.shape)\n",
    "        \n",
    "        for i in range(self.n_layers - 1, -1, -1):\n",
    "            print(\"layer {}\".format(i))\n",
    "            layer = self.layers[i]\n",
    "            layer.set_derivative_weights(layer.input_state, jacobian)\n",
    "            print(\"dupa\")\n",
    "            if i != 0:\n",
    "                jacobian @= layer.derivative_state()      "
   ]
  },
  {
   "cell_type": "code",
   "execution_count": 36,
   "metadata": {},
   "outputs": [],
   "source": [
    "nnet = NNet(\n",
    "    10,\n",
    "    [Layer(3, Sigmoid()), Layer(1, Identity())],\n",
    "    QuadraticLoss()\n",
    ")"
   ]
  },
  {
   "cell_type": "code",
   "execution_count": 37,
   "metadata": {},
   "outputs": [],
   "source": [
    "x = np.random.normal(0, 100, [100, 10])\n",
    "y_true = np.zeros([100, 1])  # important: output has to have 2 dimension (for each sample we output a vector)\n",
    "y_pred = nnet(x)"
   ]
  },
  {
   "cell_type": "code",
   "execution_count": 38,
   "metadata": {},
   "outputs": [
    {
     "data": {
      "text/plain": [
       "array([[ 0.05899351],\n",
       "       [ 0.14360027],\n",
       "       [-0.03498361],\n",
       "       [ 0.20830139],\n",
       "       [-0.08557915]])"
      ]
     },
     "execution_count": 38,
     "metadata": {},
     "output_type": "execute_result"
    }
   ],
   "source": [
    "nnet(x)[:5]"
   ]
  },
  {
   "cell_type": "code",
   "execution_count": 39,
   "metadata": {},
   "outputs": [
    {
     "name": "stdout",
     "output_type": "stream",
     "text": [
      "(100, 1, 1)\n",
      "layer 1\n",
      "(100, 1, 1)\n"
     ]
    },
    {
     "ename": "ValueError",
     "evalue": "matmul: Input operand 1 has a mismatch in its core dimension 0, with gufunc signature (n?,k),(k,m?)->(n?,m?) (size 1 is different from 3)",
     "output_type": "error",
     "traceback": [
      "\u001b[0;31m---------------------------------------------------------------------------\u001b[0m",
      "\u001b[0;31mValueError\u001b[0m                                Traceback (most recent call last)",
      "\u001b[0;32m<ipython-input-39-7a9c0e4a6705>\u001b[0m in \u001b[0;36m<module>\u001b[0;34m\u001b[0m\n\u001b[0;32m----> 1\u001b[0;31m \u001b[0mnnet\u001b[0m\u001b[0;34m.\u001b[0m\u001b[0mbackward\u001b[0m\u001b[0;34m(\u001b[0m\u001b[0my_true\u001b[0m\u001b[0;34m)\u001b[0m\u001b[0;34m\u001b[0m\u001b[0;34m\u001b[0m\u001b[0m\n\u001b[0m",
      "\u001b[0;32m<ipython-input-35-a52701178dc2>\u001b[0m in \u001b[0;36mbackward\u001b[0;34m(self, y_true)\u001b[0m\n\u001b[1;32m     30\u001b[0m             \u001b[0mprint\u001b[0m\u001b[0;34m(\u001b[0m\u001b[0;34m\"layer {}\"\u001b[0m\u001b[0;34m.\u001b[0m\u001b[0mformat\u001b[0m\u001b[0;34m(\u001b[0m\u001b[0mi\u001b[0m\u001b[0;34m)\u001b[0m\u001b[0;34m)\u001b[0m\u001b[0;34m\u001b[0m\u001b[0;34m\u001b[0m\u001b[0m\n\u001b[1;32m     31\u001b[0m             \u001b[0mlayer\u001b[0m \u001b[0;34m=\u001b[0m \u001b[0mself\u001b[0m\u001b[0;34m.\u001b[0m\u001b[0mlayers\u001b[0m\u001b[0;34m[\u001b[0m\u001b[0mi\u001b[0m\u001b[0;34m]\u001b[0m\u001b[0;34m\u001b[0m\u001b[0;34m\u001b[0m\u001b[0m\n\u001b[0;32m---> 32\u001b[0;31m             \u001b[0mlayer\u001b[0m\u001b[0;34m.\u001b[0m\u001b[0mset_derivative_weights\u001b[0m\u001b[0;34m(\u001b[0m\u001b[0mlayer\u001b[0m\u001b[0;34m.\u001b[0m\u001b[0minput_state\u001b[0m\u001b[0;34m,\u001b[0m \u001b[0mjacobian\u001b[0m\u001b[0;34m)\u001b[0m\u001b[0;34m\u001b[0m\u001b[0;34m\u001b[0m\u001b[0m\n\u001b[0m\u001b[1;32m     33\u001b[0m             \u001b[0mprint\u001b[0m\u001b[0;34m(\u001b[0m\u001b[0;34m\"dupa\"\u001b[0m\u001b[0;34m)\u001b[0m\u001b[0;34m\u001b[0m\u001b[0;34m\u001b[0m\u001b[0m\n\u001b[1;32m     34\u001b[0m             \u001b[0;32mif\u001b[0m \u001b[0mi\u001b[0m \u001b[0;34m!=\u001b[0m \u001b[0;36m0\u001b[0m\u001b[0;34m:\u001b[0m\u001b[0;34m\u001b[0m\u001b[0;34m\u001b[0m\u001b[0m\n",
      "\u001b[0;32m<ipython-input-11-d4c32fcde47f>\u001b[0m in \u001b[0;36mset_derivative_weights\u001b[0;34m(self, state, cumulated_jacobian)\u001b[0m\n\u001b[1;32m     77\u001b[0m             \u001b[0;32mfor\u001b[0m \u001b[0mj\u001b[0m\u001b[0;34m,\u001b[0m \u001b[0mmatrix\u001b[0m \u001b[0;32min\u001b[0m \u001b[0menumerate\u001b[0m\u001b[0;34m(\u001b[0m\u001b[0mtensor\u001b[0m\u001b[0;34m)\u001b[0m\u001b[0;34m:\u001b[0m  \u001b[0;31m# matrix: H x K\u001b[0m\u001b[0;34m\u001b[0m\u001b[0;34m\u001b[0m\u001b[0m\n\u001b[1;32m     78\u001b[0m                 \u001b[0mmatrix\u001b[0m\u001b[0;34m[\u001b[0m\u001b[0;34m:\u001b[0m\u001b[0;34m,\u001b[0m \u001b[0mj\u001b[0m\u001b[0;34m]\u001b[0m \u001b[0;34m=\u001b[0m \u001b[0mrow\u001b[0m\u001b[0;34m.\u001b[0m\u001b[0mflatten\u001b[0m\u001b[0;34m(\u001b[0m\u001b[0;34m)\u001b[0m  \u001b[0;31m# flatten because row is a 1 x H array\u001b[0m\u001b[0;34m\u001b[0m\u001b[0;34m\u001b[0m\u001b[0m\n\u001b[0;32m---> 79\u001b[0;31m         \u001b[0mderivative\u001b[0m \u001b[0;34m=\u001b[0m \u001b[0;34m(\u001b[0m\u001b[0minner_der\u001b[0m\u001b[0;34m.\u001b[0m\u001b[0mreshape\u001b[0m\u001b[0;34m(\u001b[0m\u001b[0;34m[\u001b[0m\u001b[0mn\u001b[0m\u001b[0;34m,\u001b[0m \u001b[0mself\u001b[0m\u001b[0;34m.\u001b[0m\u001b[0moutput_size\u001b[0m\u001b[0;34m,\u001b[0m \u001b[0;34m-\u001b[0m\u001b[0;36m1\u001b[0m\u001b[0;34m]\u001b[0m\u001b[0;34m)\u001b[0m \u001b[0;34m@\u001b[0m \u001b[0mouter_der\u001b[0m\u001b[0;34m)\u001b[0m\u001b[0;34m.\u001b[0m\u001b[0mreshape\u001b[0m\u001b[0;34m(\u001b[0m\u001b[0;34m[\u001b[0m\u001b[0mn\u001b[0m\u001b[0;34m,\u001b[0m \u001b[0mself\u001b[0m\u001b[0;34m.\u001b[0m\u001b[0moutput_size\u001b[0m\u001b[0;34m,\u001b[0m \u001b[0mself\u001b[0m\u001b[0;34m.\u001b[0m\u001b[0minput_size\u001b[0m\u001b[0;34m,\u001b[0m \u001b[0mself\u001b[0m\u001b[0;34m.\u001b[0m\u001b[0moutput_size\u001b[0m\u001b[0;34m]\u001b[0m\u001b[0;34m)\u001b[0m \u001b[0;31m# TODO: ??\u001b[0m\u001b[0;34m\u001b[0m\u001b[0;34m\u001b[0m\u001b[0m\n\u001b[0m\u001b[1;32m     80\u001b[0m         \u001b[0mset_trace\u001b[0m\u001b[0;34m(\u001b[0m\u001b[0;34m)\u001b[0m\u001b[0;34m\u001b[0m\u001b[0;34m\u001b[0m\u001b[0m\n\u001b[1;32m     81\u001b[0m         \u001b[0mself\u001b[0m\u001b[0;34m.\u001b[0m\u001b[0mderivative\u001b[0m \u001b[0;34m=\u001b[0m \u001b[0mcumulated_jacobian\u001b[0m \u001b[0;34m@\u001b[0m \u001b[0mderivative\u001b[0m\u001b[0;34m\u001b[0m\u001b[0;34m\u001b[0m\u001b[0m\n",
      "\u001b[0;31mValueError\u001b[0m: matmul: Input operand 1 has a mismatch in its core dimension 0, with gufunc signature (n?,k),(k,m?)->(n?,m?) (size 1 is different from 3)"
     ]
    }
   ],
   "source": [
    "nnet.backward(y_true)"
   ]
  },
  {
   "cell_type": "code",
   "execution_count": 66,
   "metadata": {},
   "outputs": [],
   "source": [
    "a = np.ones([10, 2])"
   ]
  },
  {
   "cell_type": "code",
   "execution_count": 68,
   "metadata": {},
   "outputs": [
    {
     "data": {
      "text/plain": [
       "array([[1., 1., 1., 1., 1., 1., 1., 1., 1., 1.],\n",
       "       [1., 1., 1., 1., 1., 1., 1., 1., 1., 1.]])"
      ]
     },
     "execution_count": 68,
     "metadata": {},
     "output_type": "execute_result"
    }
   ],
   "source": [
    "a.transpose()"
   ]
  },
  {
   "cell_type": "code",
   "execution_count": null,
   "metadata": {},
   "outputs": [],
   "source": []
  }
 ],
 "metadata": {
  "kernelspec": {
   "display_name": "Python 3",
   "language": "python",
   "name": "python3"
  },
  "language_info": {
   "codemirror_mode": {
    "name": "ipython",
    "version": 3
   },
   "file_extension": ".py",
   "mimetype": "text/x-python",
   "name": "python",
   "nbconvert_exporter": "python",
   "pygments_lexer": "ipython3",
   "version": "3.6.9"
  }
 },
 "nbformat": 4,
 "nbformat_minor": 4
}
