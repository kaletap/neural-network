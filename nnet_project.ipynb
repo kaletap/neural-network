{
 "cells": [
  {
   "cell_type": "markdown",
   "metadata": {},
   "source": [
    "# Deep learning - project 1\n",
    "## Creating and training neural network from scratch"
   ]
  },
  {
   "cell_type": "code",
   "execution_count": 3,
   "metadata": {},
   "outputs": [],
   "source": [
    "import numpy as np\n",
    "from typing import List, Callable"
   ]
  },
  {
   "cell_type": "code",
   "execution_count": 5,
   "metadata": {},
   "outputs": [],
   "source": [
    "class Layer:\n",
    "    \"\"\"\n",
    "    One layer of a neural network\n",
    "    # attributes: number of neurons\n",
    "    # implements: operator() which depends on activation function, derivative()\n",
    "    \"\"\"\n",
    "    def __init__(self, activation: Callable[[np.array], np.array]):\n",
    "        pass\n",
    "\n",
    "class Loss:\n",
    "    \"\"\"\n",
    "    Loss function of a network\n",
    "    # implements: operator(), derivative()\n",
    "    \"\"\"\n",
    "    pass"
   ]
  },
  {
   "cell_type": "code",
   "execution_count": 7,
   "metadata": {},
   "outputs": [
    {
     "data": {
      "text/plain": [
       "<__main__.Layer at 0x7f76c5e05a90>"
      ]
     },
     "execution_count": 7,
     "metadata": {},
     "output_type": "execute_result"
    }
   ],
   "source": []
  },
  {
   "cell_type": "code",
   "execution_count": null,
   "metadata": {},
   "outputs": [],
   "source": [
    "class NNet:\n",
    "    \"\"\"Feedforwad (classical) neural network\"\"\"\n",
    "    def __init__(self, layers: List[Layer], loss: Loss):\n",
    "        self.layers = layers\n",
    "        self.loss = loss"
   ]
  }
 ],
 "metadata": {
  "kernelspec": {
   "display_name": "Python 3",
   "language": "python",
   "name": "python3"
  },
  "language_info": {
   "codemirror_mode": {
    "name": "ipython",
    "version": 3
   },
   "file_extension": ".py",
   "mimetype": "text/x-python",
   "name": "python",
   "nbconvert_exporter": "python",
   "pygments_lexer": "ipython3",
   "version": "3.6.9"
  }
 },
 "nbformat": 4,
 "nbformat_minor": 4
}
